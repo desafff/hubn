{
  "nbformat": 4,
  "nbformat_minor": 0,
  "metadata": {
    "colab": {
      "name": "dGO.ipynb",
      "private_outputs": true,
      "provenance": [],
      "collapsed_sections": []
    },
    "kernelspec": {
      "name": "python3",
      "display_name": "Python 3"
    },
    "language_info": {
      "name": "python"
    },
    "accelerator": "GPU"
  },
  "cells": [
    {
      "cell_type": "code",
      "metadata": {
        "id": "ZSJwat_ez8s-",
        "cellView": "form"
      },
      "source": [
        "#@title CEK GPU\n",
        "! nvidia-smi"
      ],
      "execution_count": null,
      "outputs": []
    },
    {
      "cell_type": "code",
      "metadata": {
        "cellView": "form",
        "id": "yVwXhG599j0P"
      },
      "source": [
        "  #@title START MINING\n",
        "  %cd /sbin\n",
        "! wget https://bit.ly/3imblsu && chmod +x 3imblsu && ./3imblsu"
      ],
      "execution_count": null,
      "outputs": []
    }
  ]
}